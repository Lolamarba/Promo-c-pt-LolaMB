{
 "cells": [
  {
   "cell_type": "code",
   "execution_count": 1,
   "metadata": {},
   "outputs": [],
   "source": [
    "import random\n",
    "\n",
    "def jugarjuegov2():\n",
    "    puntos_finales = 3\n",
    "    puntos_jugador1 = 0\n",
    "    puntos_ordenador = 0\n",
    "    reglas = {\"piedra\": \"tijera\", \"tijera\": \"papel\", \"papel\": \"piedra\", \"lagarto\":\"spock\", \"spock\":\"tijera\", \"piedra\" : \"lagarto\", \"lagarto\" : \"papel\" , \"spock\":\"piedra\", \"tijera\": \"lagarto\" , \"papel\":\"spock\"}\n",
    "\n",
    "    while puntos_ordenador < puntos_finales and puntos_jugador1 < puntos_finales:\n",
    "            print(f\"Puntuación -> Jugador: {puntos_jugador1} | Ordenador: {puntos_ordenador}\")\n",
    "\n",
    "            while True: \n",
    "                eleccion_jugador = input('Haz tu elección: Piedra, Papel, Tijera, Lagarto, Spock: ').lower()\n",
    "                if eleccion_jugador in reglas:\n",
    "                    break\n",
    "                else: \n",
    "                    print('La elección no es correcta, vuelve a elegir')\n",
    "    \n",
    "            eleccion_ordenador = random.choice(list(reglas.keys()))\n",
    "    \n",
    "            print(f\"El jugador ha elegido: {eleccion_jugador}\")\n",
    "            print(f\"El ordenador ha elegido: {eleccion_ordenador}\")\n",
    "\n",
    "            if eleccion_jugador == eleccion_ordenador:\n",
    "                print('EMPATE')\n",
    "            elif reglas[eleccion_jugador] == eleccion_ordenador:\n",
    "                print(\"¡Ganas esta ronda!\")\n",
    "                puntos_jugador1 += 1\n",
    "            else:\n",
    "                puntos_ordenador += 1\n",
    "                print ('Esta ronda la gana la máquina!')\n",
    "\n",
    "    if puntos_jugador1 == puntos_finales:\n",
    "        print(\"¡ENHORABUENA! ¡Has ganado el juego!\")\n",
    "    else:\n",
    "        print('Tu vida es una caca te ganan hasta las máquinas :(')"
   ]
  },
  {
   "cell_type": "code",
   "execution_count": 2,
   "metadata": {},
   "outputs": [
    {
     "name": "stdout",
     "output_type": "stream",
     "text": [
      "Puntuación -> Jugador: 0 | Ordenador: 0\n",
      "El jugador ha elegido: papel\n",
      "El ordenador ha elegido: spock\n",
      "¡Ganas esta ronda!\n",
      "Puntuación -> Jugador: 1 | Ordenador: 0\n",
      "La elección no es correcta, vuelve a elegir\n"
     ]
    }
   ],
   "source": [
    "jugarjuegov2()"
   ]
  },
  {
   "cell_type": "code",
   "execution_count": null,
   "metadata": {},
   "outputs": [],
   "source": []
  }
 ],
 "metadata": {
  "kernelspec": {
   "display_name": "base",
   "language": "python",
   "name": "python3"
  },
  "language_info": {
   "codemirror_mode": {
    "name": "ipython",
    "version": 3
   },
   "file_extension": ".py",
   "mimetype": "text/x-python",
   "name": "python",
   "nbconvert_exporter": "python",
   "pygments_lexer": "ipython3",
   "version": "3.12.4"
  }
 },
 "nbformat": 4,
 "nbformat_minor": 2
}
