{
 "cells": [
  {
   "cell_type": "code",
   "execution_count": null,
   "metadata": {},
   "outputs": [],
   "source": []
  },
  {
   "cell_type": "code",
   "execution_count": null,
   "metadata": {},
   "outputs": [],
   "source": [
    "# 1. Generar un diccionario con las letras y el número de veces que aparece en un texto dado. "
   ]
  },
  {
   "cell_type": "code",
   "execution_count": 1,
   "metadata": {},
   "outputs": [
    {
     "name": "stdout",
     "output_type": "stream",
     "text": [
      "3\n"
     ]
    }
   ],
   "source": [
    "#Ejemplo: \n",
    "\n",
    "texto = 'banana'\n",
    "print(texto.count('a'))"
   ]
  },
  {
   "cell_type": "code",
   "execution_count": 7,
   "metadata": {},
   "outputs": [],
   "source": [
    "texto = 'Hoy es sábado'"
   ]
  },
  {
   "cell_type": "markdown",
   "metadata": {},
   "source": [
    "- crear un diccionario que rellenaremos \n",
    "- separar las letras en caracteres/recorrer el texto letra por letra \n",
    "- rellenar el diccionario: clave (letra) -> número de veces que aparece (conteo) "
   ]
  },
  {
   "cell_type": "code",
   "execution_count": 8,
   "metadata": {},
   "outputs": [],
   "source": [
    "diccionario_letras = {}\n",
    "\n",
    "for letra in texto: \n",
    "    diccionario_letras[letra] = texto.count('letra')"
   ]
  },
  {
   "cell_type": "code",
   "execution_count": 12,
   "metadata": {},
   "outputs": [
    {
     "name": "stdout",
     "output_type": "stream",
     "text": [
      "{'H': 0, 'o': 0, 'y': 0, ' ': 0, 'e': 0, 's': 0, 'á': 0, 'b': 0, 'a': 0, 'd': 0}\n"
     ]
    }
   ],
   "source": [
    "print(diccionario_letras)    ##PREGUNTAR FALLO. "
   ]
  },
  {
   "cell_type": "code",
   "execution_count": 15,
   "metadata": {},
   "outputs": [],
   "source": [
    "diccionario_letras = {}\n",
    "\n",
    "for letra in texto:  \n",
    "    if letra != ' ':\n",
    "         diccionario_letras[letra] = texto.count('letra')"
   ]
  },
  {
   "cell_type": "code",
   "execution_count": 16,
   "metadata": {},
   "outputs": [],
   "source": [
    "texto = \"me gusta mucho Phyton\""
   ]
  },
  {
   "cell_type": "code",
   "execution_count": 19,
   "metadata": {},
   "outputs": [],
   "source": [
    "diccionario_letras = {}\n",
    "\n",
    "for letra in texto:  \n",
    "    if letra != '':\n",
    "         diccionario_letras[letra] = texto.count('letra')"
   ]
  },
  {
   "cell_type": "code",
   "execution_count": 20,
   "metadata": {},
   "outputs": [
    {
     "data": {
      "text/plain": [
       "{'m': 0,\n",
       " 'e': 0,\n",
       " ' ': 0,\n",
       " 'g': 0,\n",
       " 'u': 0,\n",
       " 's': 0,\n",
       " 't': 0,\n",
       " 'a': 0,\n",
       " 'c': 0,\n",
       " 'h': 0,\n",
       " 'o': 0,\n",
       " 'P': 0,\n",
       " 'y': 0,\n",
       " 'n': 0}"
      ]
     },
     "execution_count": 20,
     "metadata": {},
     "output_type": "execute_result"
    }
   ],
   "source": [
    "diccionario_letras"
   ]
  },
  {
   "cell_type": "code",
   "execution_count": null,
   "metadata": {},
   "outputs": [],
   "source": [
    "# 2. Dada una lista de números, crea una variable con la suma de solo los números pares"
   ]
  },
  {
   "cell_type": "code",
   "execution_count": null,
   "metadata": {},
   "outputs": [],
   "source": [
    "'''- Definir la lista \n",
    "- Crear una variable inicializada a 0 \n",
    "- Recorrer la lista\n",
    "    - Evaluar si el numero es par: \n",
    "            - si es par se suma \n",
    "            - si no es par, no se suma'''"
   ]
  },
  {
   "cell_type": "code",
   "execution_count": 24,
   "metadata": {},
   "outputs": [],
   "source": [
    "numeros = [1, 2, 3, 4, 5, 6]"
   ]
  },
  {
   "cell_type": "code",
   "execution_count": 25,
   "metadata": {},
   "outputs": [],
   "source": [
    "suma_pares = 0 \n",
    "\n",
    "for num in numeros: \n",
    "    if num%2 == 0:\n",
    "        suma_pares = suma_pares + num"
   ]
  },
  {
   "cell_type": "code",
   "execution_count": 26,
   "metadata": {},
   "outputs": [
    {
     "data": {
      "text/plain": [
       "12"
      ]
     },
     "execution_count": 26,
     "metadata": {},
     "output_type": "execute_result"
    }
   ],
   "source": [
    "suma_pares"
   ]
  },
  {
   "cell_type": "code",
   "execution_count": 27,
   "metadata": {},
   "outputs": [],
   "source": [
    "suma_pares = 0   #diferente a 0 para sacar el impar\n",
    "\n",
    "for num in numeros: \n",
    "    if num%2 != 0:\n",
    "        suma_pares = suma_pares + num"
   ]
  },
  {
   "cell_type": "code",
   "execution_count": 28,
   "metadata": {},
   "outputs": [
    {
     "data": {
      "text/plain": [
       "9"
      ]
     },
     "execution_count": 28,
     "metadata": {},
     "output_type": "execute_result"
    }
   ],
   "source": [
    "suma_pares"
   ]
  },
  {
   "cell_type": "code",
   "execution_count": null,
   "metadata": {},
   "outputs": [],
   "source": [
    "# 3. Hacer registros de asistentes a una clase de yoga. Crea un programa de asistencia. "
   ]
  },
  {
   "cell_type": "code",
   "execution_count": 30,
   "metadata": {},
   "outputs": [
    {
     "data": {
      "text/plain": [
       "['mercedes', 'pilar', 'alicia', 'salir ', \"'salir'\", '']"
      ]
     },
     "execution_count": 30,
     "metadata": {},
     "output_type": "execute_result"
    }
   ],
   "source": [
    "asistentes = []                     #preguntar por las soluciones que da \n",
    "\n",
    "while True: \n",
    "\n",
    "    nombre = input('introduce el nombbre del estudiante (o salir para terminar)')\n",
    "\n",
    "    if nombre.lower() == 'salir':\n",
    "      break\n",
    "\n",
    "    asistentes.append(nombre)\n",
    "\n",
    "asistentes"
   ]
  },
  {
   "cell_type": "code",
   "execution_count": null,
   "metadata": {},
   "outputs": [],
   "source": [
    "# 4. Crea un programa que calcule el precio total de las clases de un estudiante.\n",
    "\n",
    "# usar try-except para gestionar la entrada de datos \n",
    "# pedir al usuario que meta el número de clases y precio por clase \n",
    "# mostrar el precio total \n",
    "# si el usuario introduce un valor numérico, mostrar un mensaje de error. "
   ]
  },
  {
   "cell_type": "code",
   "execution_count": 32,
   "metadata": {},
   "outputs": [
    {
     "name": "stdout",
     "output_type": "stream",
     "text": [
      "por favor, introduce un valor válido\n"
     ]
    }
   ],
   "source": [
    "try:\n",
    "    num_clases = int('introduce el numero de clases')\n",
    "    precio_clase = float(input('introduce el precio por clase'))\n",
    "\n",
    "    if (num_clases > 0) and (precio_clase > 0):\n",
    "        precio_total = num_clases*precio_clase\n",
    "        print('el precio total es:', precio_total)\n",
    "\n",
    "except ValueError:\n",
    "    print('por favor, introduce un valor válido')"
   ]
  },
  {
   "cell_type": "code",
   "execution_count": null,
   "metadata": {},
   "outputs": [],
   "source": [
    "# 5. Crea un programa que muestre las clases disponibles y permite al usuario eledir una\n",
    "\n",
    "# usar un bucle while para mostrar las clases \n",
    "# si el usuario introduce una clase que no está en la lista, muestra un mensaje de error \n",
    "# el bucle debe continuar hasta que el usuario elija una clase válida "
   ]
  },
  {
   "cell_type": "code",
   "execution_count": null,
   "metadata": {},
   "outputs": [],
   "source": [
    "- mostrar clases \n",
    "- preguntar al usuario qué clase quiere \n",
    "- si se introduce algo que no existe, mensaje de error \n",
    "- si introduce algo que no existe, mensaje con la clase que ha seleccionado"
   ]
  },
  {
   "cell_type": "code",
   "execution_count": 33,
   "metadata": {},
   "outputs": [
    {
     "name": "stdout",
     "output_type": "stream",
     "text": [
      "las clases disponibles son: ['Vinyasa', 'Hatha', 'Yin', 'Ashtanga']\n",
      "por favor, introduce una clase válida\n",
      "las clases disponibles son: ['Vinyasa', 'Hatha', 'Yin', 'Ashtanga']\n",
      "por favor, introduce una clase válida\n",
      "las clases disponibles son: ['Vinyasa', 'Hatha', 'Yin', 'Ashtanga']\n",
      "has seleccionado la clase de: Yin\n"
     ]
    }
   ],
   "source": [
    "clases = ['Vinyasa', 'Hatha', 'Yin', 'Ashtanga']\n",
    "\n",
    "while True:\n",
    "    print('las clases disponibles son:' , clases)\n",
    "\n",
    "    seleccion = input('selecciona la clase que te apetece (o introduce salir)')\n",
    "\n",
    "    if seleccion in clases:\n",
    "        print('has seleccionado la clase de:' , seleccion)\n",
    "        break\n",
    "    elif seleccion.lower() == 'salir':\n",
    "        break\n",
    "    else:\n",
    "        print('por favor, introduce una clase válida')\n",
    "\n",
    "\n",
    "# Nota: 'por favor, introduce una clase válida' = no estaba poniendo \"Yin\" con la mayúscula. "
   ]
  },
  {
   "cell_type": "code",
   "execution_count": null,
   "metadata": {},
   "outputs": [],
   "source": []
  },
  {
   "cell_type": "code",
   "execution_count": null,
   "metadata": {},
   "outputs": [],
   "source": []
  }
 ],
 "metadata": {
  "kernelspec": {
   "display_name": "base",
   "language": "python",
   "name": "python3"
  },
  "language_info": {
   "codemirror_mode": {
    "name": "ipython",
    "version": 3
   },
   "file_extension": ".py",
   "mimetype": "text/x-python",
   "name": "python",
   "nbconvert_exporter": "python",
   "pygments_lexer": "ipython3",
   "version": "3.12.4"
  }
 },
 "nbformat": 4,
 "nbformat_minor": 2
}
