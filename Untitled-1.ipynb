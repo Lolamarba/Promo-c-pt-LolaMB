{
 "cells": [
  {
   "cell_type": "markdown",
   "metadata": {},
   "source": [
    "# Evaluación módulo 1 - Lola Martorell"
   ]
  },
  {
   "cell_type": "markdown",
   "metadata": {},
   "source": [
    "Comenzamos la evaluación *módulo 1 - PHYTON*\n",
    "\n",
    "# Tres estructuras principales con las que vamos a trabajar:\n",
    "\n",
    "     - 'inventario' (lista de diccionarios): Una estructura para almacenar los productos en el inventario.\n",
    "     - 'clientes' (diccionario): Una estructura para llevar un registro de los clientes de la tienda.\n",
    "     - 'ventas_totales' (float): Una variable para llevar un registro de las ventas totales de la tienda."
   ]
  },
  {
   "cell_type": "markdown",
   "metadata": {},
   "source": [
    "# Empezamos definiendo qué son los diccionarios ---> Los diccionarios en Python son estructuras de datos que permiten almacenar y organizar información en pares clave - valor. Cada elemento en un diccionario está compuesto por una clave única y su respectivo valor asociado. "
   ]
  },
  {
   "cell_type": "markdown",
   "metadata": {},
   "source": [
    "# ¿Cómo debemos actuar con ellas? \n",
    "\n",
    "Vamos a ir separándolas por puntos para una mayor explicación:\n",
    "\n",
    "     - 'INVENTARIO'\n",
    "\n",
    "     Cada producto debe ser representado como un diccionario con las siguientes claves: 'nombre', 'precio' y 'cantidad'.  Al principio deberá ser una lista vacía."
   ]
  },
  {
   "cell_type": "code",
   "execution_count": 2,
   "metadata": {},
   "outputs": [],
   "source": [
    "# Creamos una lista para comenzar a trabajar en ella: \n",
    "\n",
    "inventario = [{'nombre' : 'jersey', 'precio' : 30,  'cantidad' : 20}, \n",
    "              {'nombre' : 'vestido', 'precio' : 50, 'cantidad' : 15}]"
   ]
  },
  {
   "cell_type": "markdown",
   "metadata": {},
   "source": [
    "      - 'CLIENTES' \n",
    "\n",
    "      Cada cliente debe ser representado como un diccionario con las siguientes claves: 'nombre' y 'email'. Al inicio deberá ser un diccionario vacío. Además, cada cliente debe tener un historial de compras."
   ]
  },
  {
   "cell_type": "code",
   "execution_count": 3,
   "metadata": {},
   "outputs": [
    {
     "data": {
      "text/plain": [
       "{'Cliente1': {'email': 'cliente1@email.com', 'compras': []},\n",
       " 'Cliente2': {'email': 'cliente2@email.com', 'compras': []}}"
      ]
     },
     "execution_count": 3,
     "metadata": {},
     "output_type": "execute_result"
    }
   ],
   "source": [
    "# Creamos lista de clientes:\n",
    "\n",
    "{'Cliente1': {'email': 'cliente1@email.com', 'compras': []},\n",
    "'Cliente2': {'email': 'cliente2@email.com', 'compras': []}}"
   ]
  },
  {
   "cell_type": "markdown",
   "metadata": {},
   "source": [
    "      - 'VENTAS_TOTALES'\n",
    "      \n",
    "       Una variable para llevar un registro de las ventas totales de la tienda. Inicializándolo con valor 0.\n",
    "       \n",
    "\n",
    "# ¿Pero qué es una variable? ---> Las variables son contenedores para almacenar datos. Nos permiten realizar cálculos, realizar seguimiento de resultados y organizar nuestros datos de manera eficiente."
   ]
  },
  {
   "cell_type": "code",
   "execution_count": 4,
   "metadata": {},
   "outputs": [],
   "source": [
    "ventas_totales = float(0)"
   ]
  },
  {
   "cell_type": "markdown",
   "metadata": {},
   "source": [
    "## Una vez tenemos nuestras estructuras claras, comenzamos a trabajar con ellas: "
   ]
  },
  {
   "cell_type": "markdown",
   "metadata": {},
   "source": [
    "1. `agregar_producto(nombre, precio, cantidad)`: Esta función agrega un producto al inventario o actualiza su cantidad si ya existe. Debe recibir el nombre, precio y cantidad del producto como parámetros.\n",
    "- Itera a través del inventario y compara los nombres de los productos con el nombre proporcionado.\n",
    "- Si el producto ya existe, actualiza la cantidad.\n",
    "- Si no existe, agrega un nuevo producto al inventario."
   ]
  },
  {
   "cell_type": "code",
   "execution_count": 8,
   "metadata": {},
   "outputs": [
    {
     "name": "stdout",
     "output_type": "stream",
     "text": [
      "[{'nombre': 'jersey', 'precio': 30, 'cantidad': 20}, {'nombre': 'vestido', 'precio': 50, 'cantidad': 15}]\n"
     ]
    }
   ],
   "source": [
    "#Agregar un elemento al inventario: \n",
    "\n",
    "\n",
    "inventario = [{'nombre' : 'jersey', 'precio' : 30,  'cantidad' : 20}, \n",
    "              {'nombre' : 'vestido', 'precio' : 50, 'cantidad' : 15}]\n",
    "\n",
    "print(inventario)"
   ]
  },
  {
   "cell_type": "code",
   "execution_count": 17,
   "metadata": {},
   "outputs": [],
   "source": [
    "nuevo_producto = [{'nombre': 'pantalón' , 'precio' : 35, 'cantidad': 10}]"
   ]
  }
 ],
 "metadata": {
  "kernelspec": {
   "display_name": "base",
   "language": "python",
   "name": "python3"
  },
  "language_info": {
   "codemirror_mode": {
    "name": "ipython",
    "version": 3
   },
   "file_extension": ".py",
   "mimetype": "text/x-python",
   "name": "python",
   "nbconvert_exporter": "python",
   "pygments_lexer": "ipython3",
   "version": "3.12.4"
  }
 },
 "nbformat": 4,
 "nbformat_minor": 2
}
